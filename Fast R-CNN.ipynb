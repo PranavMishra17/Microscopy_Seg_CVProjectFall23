{
 "cells": [
  {
   "cell_type": "code",
   "execution_count": 1,
   "id": "4780d5fa",
   "metadata": {},
   "outputs": [],
   "source": [
    "import tifffile as tiff\n",
    "import numpy as np\n",
    "import matplotlib.pyplot as plt\n",
    "import cv2\n",
    "import os\n",
    "import nrrd\n",
    "import json"
   ]
  },
  {
   "cell_type": "code",
   "execution_count": 2,
   "id": "8bb87893",
   "metadata": {},
   "outputs": [
    {
     "name": "stdout",
     "output_type": "stream",
     "text": [
      "C:\\Users\\prana\\Desktop\\CV_Project\\Microscopy_Seg_CVProjectFall23\n"
     ]
    }
   ],
   "source": [
    "# Define the folder containing the images\n",
    "current_directory = os.getcwd()\n",
    "print(os.getcwd())"
   ]
  },
  {
   "cell_type": "code",
   "execution_count": 3,
   "id": "294ffb6e",
   "metadata": {},
   "outputs": [],
   "source": [
    "directory = current_directory + \"\\\\tif\\\\\""
   ]
  },
  {
   "cell_type": "markdown",
   "id": "bd9d9c61",
   "metadata": {},
   "source": [
    "Fast R-CNN is an evolution of the earlier R-CNN (Region-based Convolutional Neural Networks) and SPPnet (Spatial Pyramid Pooling in deep convolutional networks) models, designed for object detection tasks. Developed by Ross Girshick in 2015, Fast R-CNN improved upon its predecessors in terms of both speed and accuracy.\n",
    "\n",
    "Functioning of Fast R-CNN:\n",
    "Input and Feature Extraction:\n",
    "\n",
    "Fast R-CNN takes an entire image and a set of object proposals as input.\n",
    "The image is processed by a series of convolutional and max pooling layers to produce a convolutional feature map.\n",
    "\n",
    "\n",
    "Region of Interest (RoI) Pooling:\n",
    "\n",
    "For each object proposal, a Region of Interest (RoI) is defined on the feature map.\n",
    "RoI pooling layer then extracts a fixed-size feature vector from each RoI (regardless of its size), ensuring consistent input size for the subsequent fully connected layers.\n",
    "\n",
    "\n",
    "Classification and Bounding Box Regression:\n",
    "\n",
    "These feature vectors are fed into a sequence of fully connected layers that finally branch into two output layers:\n",
    "One for object classification (which includes a background class for negative samples).\n",
    "The other for bounding box regression, which refines the positions of the proposed regions.\n",
    "The classification layer outputs the probabilities of each RoI belonging to each object class.\n",
    "The regression layer outputs bounding box adjustments for improving the accuracy of the proposed region.\n",
    "Advantages of Fast R-CNN:\n",
    "Efficiency: Unlike R-CNN which processes each object proposal independently, Fast R-CNN shares computation on the entire image, making it significantly faster.\n",
    "Accuracy: It introduces a multi-task loss that combines classification and bounding box regression, leading to improvements in detection accuracy.\n",
    "\n",
    "\n",
    "Applications:\n",
    "Fast R-CNN, like other object detection models, is widely used in various applications such as:\n",
    "\n",
    "Automated vehicle systems for detecting pedestrians, vehicles, and other objects.\n",
    "Surveillance and security to identify activities and objects of interest.\n",
    "Industrial automation for defect detection, quality control, and automated assembly.\n",
    "Retail to automate checkout processes by recognizing products.\n",
    "Wildlife monitoring for species identification and behavior study.\n",
    "Limitations:\n",
    "Despite its improvements, Fast R-CNN still relies on external region proposal algorithms like Selective Search, which can be a bottleneck.\n",
    "The subsequent development of Faster R-CNN integrated region proposal networks (RPN) directly into the model, further improving both speed and accuracy, addressing one of the main limitations of Fast R-CNN."
   ]
  },
  {
   "cell_type": "code",
   "execution_count": null,
   "id": "77084d93",
   "metadata": {},
   "outputs": [],
   "source": []
  }
 ],
 "metadata": {
  "kernelspec": {
   "display_name": "Python 3 (ipykernel)",
   "language": "python",
   "name": "python3"
  },
  "language_info": {
   "codemirror_mode": {
    "name": "ipython",
    "version": 3
   },
   "file_extension": ".py",
   "mimetype": "text/x-python",
   "name": "python",
   "nbconvert_exporter": "python",
   "pygments_lexer": "ipython3",
   "version": "3.11.4"
  }
 },
 "nbformat": 4,
 "nbformat_minor": 5
}
